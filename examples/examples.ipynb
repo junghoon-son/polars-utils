{
 "cells": [
  {
   "cell_type": "markdown",
   "metadata": {},
   "source": [
    "# Examples"
   ]
  },
  {
   "cell_type": "markdown",
   "metadata": {},
   "source": [
    "## Basic"
   ]
  },
  {
   "cell_type": "code",
   "execution_count": 1,
   "metadata": {},
   "outputs": [
    {
     "data": {
      "application/vnd.jupyter.widget-view+json": {
       "model_id": "e26e744fb03946d2af63298656a3d995",
       "version_major": 2,
       "version_minor": 0
      },
      "text/plain": [
       "Output()"
      ]
     },
     "metadata": {},
     "output_type": "display_data"
    },
    {
     "name": "stdout",
     "output_type": "stream",
     "text": [
      "Analyzing join possibilities between df1 and df2:\n"
     ]
    },
    {
     "data": {
      "text/html": [
       "<pre style=\"white-space:pre;overflow-x:auto;line-height:normal;font-family:Menlo,'DejaVu Sans Mono',consolas,'Courier New',monospace\"></pre>\n"
      ],
      "text/plain": []
     },
     "metadata": {},
     "output_type": "display_data"
    },
    {
     "data": {
      "text/html": [
       "<pre style=\"white-space:pre;overflow-x:auto;line-height:normal;font-family:Menlo,'DejaVu Sans Mono',consolas,'Courier New',monospace\"><span style=\"font-style: italic\">                                             Join Analysis Results                                              </span>\n",
       "╔═════════════╦══════════════╦════════════════╦══════════════╦═══════════════╦══════════════╦══════════════════╗\n",
       "║<span style=\"font-weight: bold\"> Left Column </span>║<span style=\"font-weight: bold\"> Right Column </span>║<span style=\"font-weight: bold\"> Types          </span>║<span style=\"font-weight: bold\"> Left Match % </span>║<span style=\"font-weight: bold\"> Right Match % </span>║<span style=\"font-weight: bold\"> Matched Rows </span>║<span style=\"font-weight: bold\"> Coercion Applied </span>║\n",
       "╠═════════════╬══════════════╬════════════════╬══════════════╬═══════════════╬══════════════╬══════════════════╣\n",
       "║ mixed       ║ mixed        ║ String ↔ Int64 ║ 100.0%       ║ 100.0%        ║ 5            ║ R → String       ║\n",
       "║ id          ║ mixed        ║ Int64          ║ 80.0%        ║ 80.0%         ║ 4            ║ -                ║\n",
       "║ id          ║ id           ║ Int64          ║ 60.0%        ║ 80.0%         ║ 4            ║ -                ║\n",
       "║ name        ║ name         ║ String         ║ 60.0%        ║ 80.0%         ║ 4            ║ -                ║\n",
       "║ mixed       ║ id           ║ String ↔ Int64 ║ 60.0%        ║ 80.0%         ║ 4            ║ R → String       ║\n",
       "║ id          ║ name         ║ Int64 ↔ String ║ -            ║ -             ║ -            ║ R → Int64        ║\n",
       "║ id          ║ score        ║ Int64          ║ -            ║ -             ║ -            ║ -                ║\n",
       "║ name        ║ id           ║ String ↔ Int64 ║ -            ║ -             ║ -            ║ R → String       ║\n",
       "║ name        ║ score        ║ String ↔ Int64 ║ -            ║ -             ║ -            ║ R → String       ║\n",
       "║ name        ║ mixed        ║ String ↔ Int64 ║ -            ║ -             ║ -            ║ R → String       ║\n",
       "║ value       ║ id           ║ Int64          ║ -            ║ -             ║ -            ║ -                ║\n",
       "║ value       ║ name         ║ Int64 ↔ String ║ -            ║ -             ║ -            ║ R → Int64        ║\n",
       "║ value       ║ score        ║ Int64          ║ -            ║ -             ║ -            ║ -                ║\n",
       "║ value       ║ mixed        ║ Int64          ║ -            ║ -             ║ -            ║ -                ║\n",
       "║ mixed       ║ name         ║ String         ║ -            ║ -             ║ -            ║ -                ║\n",
       "║ mixed       ║ score        ║ String ↔ Int64 ║ -            ║ -             ║ -            ║ R → String       ║\n",
       "╚═════════════╩══════════════╩════════════════╩══════════════╩═══════════════╩══════════════╩══════════════════╝\n",
       "</pre>\n"
      ],
      "text/plain": [
       "\u001b[3m                                             Join Analysis Results                                              \u001b[0m\n",
       "╔═════════════╦══════════════╦════════════════╦══════════════╦═══════════════╦══════════════╦══════════════════╗\n",
       "║\u001b[1m \u001b[0m\u001b[1mLeft Column\u001b[0m\u001b[1m \u001b[0m║\u001b[1m \u001b[0m\u001b[1mRight Column\u001b[0m\u001b[1m \u001b[0m║\u001b[1m \u001b[0m\u001b[1mTypes         \u001b[0m\u001b[1m \u001b[0m║\u001b[1m \u001b[0m\u001b[1mLeft Match %\u001b[0m\u001b[1m \u001b[0m║\u001b[1m \u001b[0m\u001b[1mRight Match %\u001b[0m\u001b[1m \u001b[0m║\u001b[1m \u001b[0m\u001b[1mMatched Rows\u001b[0m\u001b[1m \u001b[0m║\u001b[1m \u001b[0m\u001b[1mCoercion Applied\u001b[0m\u001b[1m \u001b[0m║\n",
       "╠═════════════╬══════════════╬════════════════╬══════════════╬═══════════════╬══════════════╬══════════════════╣\n",
       "║ mixed       ║ mixed        ║ String ↔ Int64 ║ 100.0%       ║ 100.0%        ║ 5            ║ R → String       ║\n",
       "║ id          ║ mixed        ║ Int64          ║ 80.0%        ║ 80.0%         ║ 4            ║ -                ║\n",
       "║ id          ║ id           ║ Int64          ║ 60.0%        ║ 80.0%         ║ 4            ║ -                ║\n",
       "║ name        ║ name         ║ String         ║ 60.0%        ║ 80.0%         ║ 4            ║ -                ║\n",
       "║ mixed       ║ id           ║ String ↔ Int64 ║ 60.0%        ║ 80.0%         ║ 4            ║ R → String       ║\n",
       "║ id          ║ name         ║ Int64 ↔ String ║ -            ║ -             ║ -            ║ R → Int64        ║\n",
       "║ id          ║ score        ║ Int64          ║ -            ║ -             ║ -            ║ -                ║\n",
       "║ name        ║ id           ║ String ↔ Int64 ║ -            ║ -             ║ -            ║ R → String       ║\n",
       "║ name        ║ score        ║ String ↔ Int64 ║ -            ║ -             ║ -            ║ R → String       ║\n",
       "║ name        ║ mixed        ║ String ↔ Int64 ║ -            ║ -             ║ -            ║ R → String       ║\n",
       "║ value       ║ id           ║ Int64          ║ -            ║ -             ║ -            ║ -                ║\n",
       "║ value       ║ name         ║ Int64 ↔ String ║ -            ║ -             ║ -            ║ R → Int64        ║\n",
       "║ value       ║ score        ║ Int64          ║ -            ║ -             ║ -            ║ -                ║\n",
       "║ value       ║ mixed        ║ Int64          ║ -            ║ -             ║ -            ║ -                ║\n",
       "║ mixed       ║ name         ║ String         ║ -            ║ -             ║ -            ║ -                ║\n",
       "║ mixed       ║ score        ║ String ↔ Int64 ║ -            ║ -             ║ -            ║ R → String       ║\n",
       "╚═════════════╩══════════════╩════════════════╩══════════════╩═══════════════╩══════════════╩══════════════════╝\n"
      ]
     },
     "metadata": {},
     "output_type": "display_data"
    },
    {
     "name": "stdout",
     "output_type": "stream",
     "text": [
      "\n",
      "Sample of joined data:\n",
      "shape: (4, 7)\n",
      "┌─────┬──────┬───────┬───────┬────────────┬───────┬─────────────┐\n",
      "│ id  ┆ name ┆ value ┆ mixed ┆ name_right ┆ score ┆ mixed_right │\n",
      "│ --- ┆ ---  ┆ ---   ┆ ---   ┆ ---        ┆ ---   ┆ ---         │\n",
      "│ i64 ┆ str  ┆ i64   ┆ str   ┆ str        ┆ i64   ┆ i64         │\n",
      "╞═════╪══════╪═══════╪═══════╪════════════╪═══════╪═════════════╡\n",
      "│ 1   ┆ A    ┆ 10    ┆ 1     ┆ A          ┆ 100   ┆ 1           │\n",
      "│ 2   ┆ B    ┆ 20    ┆ 2     ┆ B          ┆ 200   ┆ 2           │\n",
      "│ 3   ┆ C    ┆ 30    ┆ 3     ┆ C          ┆ 300   ┆ 3           │\n",
      "│ 3   ┆ C    ┆ 30    ┆ 3     ┆ C          ┆ 400   ┆ 4           │\n",
      "└─────┴──────┴───────┴───────┴────────────┴───────┴─────────────┘\n"
     ]
    }
   ],
   "source": [
    "import polars as pl\n",
    "from polars_utils import register_extensions\n",
    "import time\n",
    "import random\n",
    "\n",
    "register_extensions()\n",
    "\n",
    "# Register the extensions\n",
    "register_extensions()\n",
    "\n",
    "# Create sample DataFrames\n",
    "df1 = pl.DataFrame({\n",
    "    \"id\": [1, 2, 3, 4, None],\n",
    "    \"name\": [\"A\", \"B\", \"C\", \"D\", \"E\"],\n",
    "    \"value\": [10, 20, 30, 40, 50],\n",
    "    \"mixed\": [\"1\", \"2\", \"3\", \"4\", \"5\"]\n",
    "})\n",
    "\n",
    "df2 = pl.DataFrame({\n",
    "    \"id\": [1, 2, 3, 3, None],\n",
    "    \"name\": [\"A\", \"B\", \"C\", \"C\", \"F\"],\n",
    "    \"score\": [100, 200, 300, 400, 500],\n",
    "    \"mixed\": [1, 2, 3, 4, 5]\n",
    "})\n",
    "\n",
    "# Analyze potential join relationships\n",
    "print(\"Analyzing join possibilities between df1 and df2:\")\n",
    "df1.polars_utils.join_analysis(df2)\n",
    "\n",
    "# Perform a join using the identified key\n",
    "joined_df = df1.join(\n",
    "    df2,\n",
    "    left_on=\"id\",\n",
    "    right_on=\"id\",\n",
    "    how=\"inner\"\n",
    ")\n",
    "\n",
    "print(\"\\nSample of joined data:\")\n",
    "print(joined_df)"
   ]
  },
  {
   "cell_type": "markdown",
   "metadata": {},
   "source": [
    "## Larger dataframes"
   ]
  },
  {
   "cell_type": "code",
   "execution_count": 2,
   "metadata": {},
   "outputs": [
    {
     "data": {
      "application/vnd.jupyter.widget-view+json": {
       "model_id": "20661a86a2ba4d6eaa0b205ec162a946",
       "version_major": 2,
       "version_minor": 0
      },
      "text/plain": [
       "Output()"
      ]
     },
     "metadata": {},
     "output_type": "display_data"
    },
    {
     "name": "stdout",
     "output_type": "stream",
     "text": [
      "Join Analysis:\n"
     ]
    },
    {
     "data": {
      "text/html": [
       "<pre style=\"white-space:pre;overflow-x:auto;line-height:normal;font-family:Menlo,'DejaVu Sans Mono',consolas,'Courier New',monospace\"></pre>\n"
      ],
      "text/plain": []
     },
     "metadata": {},
     "output_type": "display_data"
    },
    {
     "data": {
      "text/html": [
       "<pre style=\"white-space:pre;overflow-x:auto;line-height:normal;font-family:Menlo,'DejaVu Sans Mono',consolas,'Courier New',monospace\"><span style=\"font-style: italic\">                                              Join Analysis Results                                               </span>\n",
       "╔═════════════╦══════════════╦══════════════════╦══════════════╦═══════════════╦══════════════╦══════════════════╗\n",
       "║<span style=\"font-weight: bold\"> Left Column </span>║<span style=\"font-weight: bold\"> Right Column </span>║<span style=\"font-weight: bold\"> Types            </span>║<span style=\"font-weight: bold\"> Left Match % </span>║<span style=\"font-weight: bold\"> Right Match % </span>║<span style=\"font-weight: bold\"> Matched Rows </span>║<span style=\"font-weight: bold\"> Coercion Applied </span>║\n",
       "╠═════════════╬══════════════╬══════════════════╬══════════════╬═══════════════╬══════════════╬══════════════════╣\n",
       "║ id          ║ id           ║ Int64            ║ 70.0%        ║ 100.0%        ║ 2098758      ║ -                ║\n",
       "║ id          ║ score        ║ Int64 ↔ Float64  ║ 0.0%         ║ 99.0%         ║ 2077745      ║ R → Int64        ║\n",
       "║ id          ║ status       ║ Int64 ↔ String   ║ -            ║ -             ║ -            ║ R → Int64        ║\n",
       "║ value       ║ id           ║ String ↔ Int64   ║ -            ║ -             ║ -            ║ R → String       ║\n",
       "║ value       ║ score        ║ String ↔ Float64 ║ -            ║ -             ║ -            ║ R → String       ║\n",
       "║ value       ║ status       ║ String           ║ -            ║ -             ║ -            ║ -                ║\n",
       "║ category    ║ id           ║ String ↔ Int64   ║ -            ║ -             ║ -            ║ R → String       ║\n",
       "║ category    ║ score        ║ String ↔ Float64 ║ -            ║ -             ║ -            ║ R → String       ║\n",
       "║ category    ║ status       ║ String           ║ -            ║ -             ║ -            ║ -                ║\n",
       "╚═════════════╩══════════════╩══════════════════╩══════════════╩═══════════════╩══════════════╩══════════════════╝\n",
       "</pre>\n"
      ],
      "text/plain": [
       "\u001b[3m                                              Join Analysis Results                                               \u001b[0m\n",
       "╔═════════════╦══════════════╦══════════════════╦══════════════╦═══════════════╦══════════════╦══════════════════╗\n",
       "║\u001b[1m \u001b[0m\u001b[1mLeft Column\u001b[0m\u001b[1m \u001b[0m║\u001b[1m \u001b[0m\u001b[1mRight Column\u001b[0m\u001b[1m \u001b[0m║\u001b[1m \u001b[0m\u001b[1mTypes           \u001b[0m\u001b[1m \u001b[0m║\u001b[1m \u001b[0m\u001b[1mLeft Match %\u001b[0m\u001b[1m \u001b[0m║\u001b[1m \u001b[0m\u001b[1mRight Match %\u001b[0m\u001b[1m \u001b[0m║\u001b[1m \u001b[0m\u001b[1mMatched Rows\u001b[0m\u001b[1m \u001b[0m║\u001b[1m \u001b[0m\u001b[1mCoercion Applied\u001b[0m\u001b[1m \u001b[0m║\n",
       "╠═════════════╬══════════════╬══════════════════╬══════════════╬═══════════════╬══════════════╬══════════════════╣\n",
       "║ id          ║ id           ║ Int64            ║ 70.0%        ║ 100.0%        ║ 2098758      ║ -                ║\n",
       "║ id          ║ score        ║ Int64 ↔ Float64  ║ 0.0%         ║ 99.0%         ║ 2077745      ║ R → Int64        ║\n",
       "║ id          ║ status       ║ Int64 ↔ String   ║ -            ║ -             ║ -            ║ R → Int64        ║\n",
       "║ value       ║ id           ║ String ↔ Int64   ║ -            ║ -             ║ -            ║ R → String       ║\n",
       "║ value       ║ score        ║ String ↔ Float64 ║ -            ║ -             ║ -            ║ R → String       ║\n",
       "║ value       ║ status       ║ String           ║ -            ║ -             ║ -            ║ -                ║\n",
       "║ category    ║ id           ║ String ↔ Int64   ║ -            ║ -             ║ -            ║ R → String       ║\n",
       "║ category    ║ score        ║ String ↔ Float64 ║ -            ║ -             ║ -            ║ R → String       ║\n",
       "║ category    ║ status       ║ String           ║ -            ║ -             ║ -            ║ -                ║\n",
       "╚═════════════╩══════════════╩══════════════════╩══════════════╩═══════════════╩══════════════╩══════════════════╝\n"
      ]
     },
     "metadata": {},
     "output_type": "display_data"
    },
    {
     "name": "stdout",
     "output_type": "stream",
     "text": [
      "Analysis completed in 2.90 seconds\n",
      "\n",
      "DataFrame Statistics:\n",
      "df1 total rows: 1,000,000\n",
      "df2 total rows: 2,098,758\n",
      "df1 unique IDs: 1,000,000\n",
      "df2 unique IDs: 700,000\n"
     ]
    }
   ],
   "source": [
    "# Create DataFrames with realistic data patterns\n",
    "size = 1_000_000  # Base size for df1\n",
    "random.seed(42)  # For reproducibility\n",
    "\n",
    "# Generate unique IDs for df1\n",
    "df1_ids = list(range(1, size + 1))\n",
    "random.shuffle(df1_ids)\n",
    "\n",
    "# Create df1 with unique IDs\n",
    "df1 = pl.DataFrame({\n",
    "    \"id\": df1_ids,\n",
    "    \"value\": [f\"value_{i}\" for i in range(size)],\n",
    "    \"category\": random.choices([\"A\", \"B\", \"C\"], k=size)\n",
    "})\n",
    "\n",
    "# Create df2 with repeated IDs (one-to-many relationship)\n",
    "# Some IDs will appear multiple times, others won't appear at all\n",
    "repeated_ids = []\n",
    "for id in df1_ids[:int(size * 0.7)]:  # 70% of df1 IDs will have matches\n",
    "    # Each ID appears 1-5 times\n",
    "    repeats = random.randint(1, 5)\n",
    "    repeated_ids.extend([id] * repeats)\n",
    "\n",
    "# Create df2 with repeated IDs\n",
    "df2 = pl.DataFrame({\n",
    "    \"id\": repeated_ids,\n",
    "    \"score\": [random.random() * 100 for _ in range(len(repeated_ids))],\n",
    "    \"status\": random.choices([\"active\", \"inactive\"], k=len(repeated_ids))\n",
    "})\n",
    "\n",
    "# Analyze join possibilities\n",
    "start_time = time.time()\n",
    "print(\"Join Analysis:\")\n",
    "df1.polars_utils.join_analysis(df2)\n",
    "print(f\"Analysis completed in {time.time() - start_time:.2f} seconds\")\n",
    "\n",
    "# Print additional statistics\n",
    "print(\"\\nDataFrame Statistics:\")\n",
    "print(f\"df1 total rows: {len(df1):,}\")\n",
    "print(f\"df2 total rows: {len(df2):,}\")\n",
    "print(f\"df1 unique IDs: {df1['id'].n_unique():,}\")\n",
    "print(f\"df2 unique IDs: {df2['id'].n_unique():,}\")\n"
   ]
  },
  {
   "cell_type": "markdown",
   "metadata": {},
   "source": [
    "## Null handling"
   ]
  },
  {
   "cell_type": "code",
   "execution_count": 3,
   "metadata": {},
   "outputs": [
    {
     "data": {
      "application/vnd.jupyter.widget-view+json": {
       "model_id": "7054d1aa306d4a1b99b8925b57dcd043",
       "version_major": 2,
       "version_minor": 0
      },
      "text/plain": [
       "Output()"
      ]
     },
     "metadata": {},
     "output_type": "display_data"
    },
    {
     "name": "stdout",
     "output_type": "stream",
     "text": [
      "Join Analysis:\n"
     ]
    },
    {
     "data": {
      "text/html": [
       "<pre style=\"white-space:pre;overflow-x:auto;line-height:normal;font-family:Menlo,'DejaVu Sans Mono',consolas,'Courier New',monospace\"></pre>\n"
      ],
      "text/plain": []
     },
     "metadata": {},
     "output_type": "display_data"
    },
    {
     "data": {
      "text/html": [
       "<pre style=\"white-space:pre;overflow-x:auto;line-height:normal;font-family:Menlo,'DejaVu Sans Mono',consolas,'Courier New',monospace\"><span style=\"font-style: italic\">                                             Join Analysis Results                                              </span>\n",
       "╔═════════════╦══════════════╦════════════════╦══════════════╦═══════════════╦══════════════╦══════════════════╗\n",
       "║<span style=\"font-weight: bold\"> Left Column </span>║<span style=\"font-weight: bold\"> Right Column </span>║<span style=\"font-weight: bold\"> Types          </span>║<span style=\"font-weight: bold\"> Left Match % </span>║<span style=\"font-weight: bold\"> Right Match % </span>║<span style=\"font-weight: bold\"> Matched Rows </span>║<span style=\"font-weight: bold\"> Coercion Applied </span>║\n",
       "╠═════════════╬══════════════╬════════════════╬══════════════╬═══════════════╬══════════════╬══════════════════╣\n",
       "║ customer_id ║ customer_id  ║ Int64          ║ 60.0%        ║ 60.0%         ║ 3            ║ -                ║\n",
       "║ customer_id ║ amount       ║ Int64          ║ -            ║ -             ║ -            ║ -                ║\n",
       "║ email       ║ customer_id  ║ String ↔ Int64 ║ -            ║ -             ║ -            ║ R → String       ║\n",
       "║ email       ║ amount       ║ String ↔ Int64 ║ -            ║ -             ║ -            ║ R → String       ║\n",
       "╚═════════════╩══════════════╩════════════════╩══════════════╩═══════════════╩══════════════╩══════════════════╝\n",
       "</pre>\n"
      ],
      "text/plain": [
       "\u001b[3m                                             Join Analysis Results                                              \u001b[0m\n",
       "╔═════════════╦══════════════╦════════════════╦══════════════╦═══════════════╦══════════════╦══════════════════╗\n",
       "║\u001b[1m \u001b[0m\u001b[1mLeft Column\u001b[0m\u001b[1m \u001b[0m║\u001b[1m \u001b[0m\u001b[1mRight Column\u001b[0m\u001b[1m \u001b[0m║\u001b[1m \u001b[0m\u001b[1mTypes         \u001b[0m\u001b[1m \u001b[0m║\u001b[1m \u001b[0m\u001b[1mLeft Match %\u001b[0m\u001b[1m \u001b[0m║\u001b[1m \u001b[0m\u001b[1mRight Match %\u001b[0m\u001b[1m \u001b[0m║\u001b[1m \u001b[0m\u001b[1mMatched Rows\u001b[0m\u001b[1m \u001b[0m║\u001b[1m \u001b[0m\u001b[1mCoercion Applied\u001b[0m\u001b[1m \u001b[0m║\n",
       "╠═════════════╬══════════════╬════════════════╬══════════════╬═══════════════╬══════════════╬══════════════════╣\n",
       "║ customer_id ║ customer_id  ║ Int64          ║ 60.0%        ║ 60.0%         ║ 3            ║ -                ║\n",
       "║ customer_id ║ amount       ║ Int64          ║ -            ║ -             ║ -            ║ -                ║\n",
       "║ email       ║ customer_id  ║ String ↔ Int64 ║ -            ║ -             ║ -            ║ R → String       ║\n",
       "║ email       ║ amount       ║ String ↔ Int64 ║ -            ║ -             ║ -            ║ R → String       ║\n",
       "╚═════════════╩══════════════╩════════════════╩══════════════╩═══════════════╩══════════════╩══════════════════╝\n"
      ]
     },
     "metadata": {},
     "output_type": "display_data"
    }
   ],
   "source": [
    "\n",
    "# Create DataFrames with null values\n",
    "customers = pl.DataFrame({\n",
    "    \"customer_id\": [1, 2, None, 4, 5],\n",
    "    \"email\": [\"a@ex.com\", None, \"c@ex.com\", \"d@ex.com\", \"e@ex.com\"],\n",
    "})\n",
    "\n",
    "purchases = pl.DataFrame({\n",
    "    \"customer_id\": [1, 2, 3, None, 5],\n",
    "    \"amount\": [100, 200, 300, 400, 500],\n",
    "})\n",
    "\n",
    "# Analyze join possibilities\n",
    "print(\"Join Analysis:\")\n",
    "customers.polars_utils.join_analysis(purchases)"
   ]
  },
  {
   "cell_type": "markdown",
   "metadata": {},
   "source": [
    "## Type Coercion"
   ]
  },
  {
   "cell_type": "code",
   "execution_count": 4,
   "metadata": {},
   "outputs": [
    {
     "data": {
      "application/vnd.jupyter.widget-view+json": {
       "model_id": "455b99ea36ce43419d72cb2070c75458",
       "version_major": 2,
       "version_minor": 0
      },
      "text/plain": [
       "Output()"
      ]
     },
     "metadata": {},
     "output_type": "display_data"
    },
    {
     "name": "stdout",
     "output_type": "stream",
     "text": [
      "Join Analysis:\n"
     ]
    },
    {
     "data": {
      "text/html": [
       "<pre style=\"white-space:pre;overflow-x:auto;line-height:normal;font-family:Menlo,'DejaVu Sans Mono',consolas,'Courier New',monospace\"></pre>\n"
      ],
      "text/plain": []
     },
     "metadata": {},
     "output_type": "display_data"
    },
    {
     "data": {
      "text/html": [
       "<pre style=\"white-space:pre;overflow-x:auto;line-height:normal;font-family:Menlo,'DejaVu Sans Mono',consolas,'Courier New',monospace\"><span style=\"font-style: italic\">                                             Join Analysis Results                                              </span>\n",
       "╔═════════════╦══════════════╦════════════════╦══════════════╦═══════════════╦══════════════╦══════════════════╗\n",
       "║<span style=\"font-weight: bold\"> Left Column </span>║<span style=\"font-weight: bold\"> Right Column </span>║<span style=\"font-weight: bold\"> Types          </span>║<span style=\"font-weight: bold\"> Left Match % </span>║<span style=\"font-weight: bold\"> Right Match % </span>║<span style=\"font-weight: bold\"> Matched Rows </span>║<span style=\"font-weight: bold\"> Coercion Applied </span>║\n",
       "╠═════════════╬══════════════╬════════════════╬══════════════╬═══════════════╬══════════════╬══════════════════╣\n",
       "║ user_id     ║ user_id      ║ String ↔ Int64 ║ 75.0%        ║ 100.0%        ║ 4            ║ R → String       ║\n",
       "║ user_id     ║ order_amount ║ String ↔ Int64 ║ -            ║ -             ║ -            ║ R → String       ║\n",
       "║ name        ║ user_id      ║ String ↔ Int64 ║ -            ║ -             ║ -            ║ R → String       ║\n",
       "║ name        ║ order_amount ║ String ↔ Int64 ║ -            ║ -             ║ -            ║ R → String       ║\n",
       "╚═════════════╩══════════════╩════════════════╩══════════════╩═══════════════╩══════════════╩══════════════════╝\n",
       "</pre>\n"
      ],
      "text/plain": [
       "\u001b[3m                                             Join Analysis Results                                              \u001b[0m\n",
       "╔═════════════╦══════════════╦════════════════╦══════════════╦═══════════════╦══════════════╦══════════════════╗\n",
       "║\u001b[1m \u001b[0m\u001b[1mLeft Column\u001b[0m\u001b[1m \u001b[0m║\u001b[1m \u001b[0m\u001b[1mRight Column\u001b[0m\u001b[1m \u001b[0m║\u001b[1m \u001b[0m\u001b[1mTypes         \u001b[0m\u001b[1m \u001b[0m║\u001b[1m \u001b[0m\u001b[1mLeft Match %\u001b[0m\u001b[1m \u001b[0m║\u001b[1m \u001b[0m\u001b[1mRight Match %\u001b[0m\u001b[1m \u001b[0m║\u001b[1m \u001b[0m\u001b[1mMatched Rows\u001b[0m\u001b[1m \u001b[0m║\u001b[1m \u001b[0m\u001b[1mCoercion Applied\u001b[0m\u001b[1m \u001b[0m║\n",
       "╠═════════════╬══════════════╬════════════════╬══════════════╬═══════════════╬══════════════╬══════════════════╣\n",
       "║ user_id     ║ user_id      ║ String ↔ Int64 ║ 75.0%        ║ 100.0%        ║ 4            ║ R → String       ║\n",
       "║ user_id     ║ order_amount ║ String ↔ Int64 ║ -            ║ -             ║ -            ║ R → String       ║\n",
       "║ name        ║ user_id      ║ String ↔ Int64 ║ -            ║ -             ║ -            ║ R → String       ║\n",
       "║ name        ║ order_amount ║ String ↔ Int64 ║ -            ║ -             ║ -            ║ R → String       ║\n",
       "╚═════════════╩══════════════╩════════════════╩══════════════╩═══════════════╩══════════════╩══════════════════╝\n"
      ]
     },
     "metadata": {},
     "output_type": "display_data"
    },
    {
     "name": "stdout",
     "output_type": "stream",
     "text": [
      "\n",
      "Joined Result:\n",
      "shape: (5, 3)\n",
      "┌─────────┬─────────┬──────────────┐\n",
      "│ user_id ┆ name    ┆ order_amount │\n",
      "│ ---     ┆ ---     ┆ ---          │\n",
      "│ i64     ┆ str     ┆ i64          │\n",
      "╞═════════╪═════════╪══════════════╡\n",
      "│ 1       ┆ Alice   ┆ 100          │\n",
      "│ 2       ┆ Bob     ┆ 200          │\n",
      "│ 2       ┆ Bob     ┆ 150          │\n",
      "│ 3       ┆ Charlie ┆ 300          │\n",
      "│ 4       ┆ David   ┆ null         │\n",
      "└─────────┴─────────┴──────────────┘\n",
      "\n",
      "Joined DataFrame Schema:\n",
      "Schema({'user_id': Int64, 'name': String, 'order_amount': Int64})\n"
     ]
    }
   ],
   "source": [
    "import polars as pl\n",
    "from polars_utils import register_extensions\n",
    "\n",
    "register_extensions()\n",
    "\n",
    "# Create DataFrames with different types\n",
    "users = pl.DataFrame({\n",
    "    \"user_id\": [\"1\", \"2\", \"3\", \"4\"],  # String IDs\n",
    "    \"name\": [\"Alice\", \"Bob\", \"Charlie\", \"David\"],\n",
    "})\n",
    "\n",
    "orders = pl.DataFrame({\n",
    "    \"user_id\": [1, 2, 2, 3],  # Integer IDs\n",
    "    \"order_amount\": [100, 200, 150, 300],\n",
    "})\n",
    "\n",
    "# Analyze join possibilities - will show type differences and potential coercions\n",
    "print(\"Join Analysis:\")\n",
    "users.polars_utils.join_analysis(orders)\n",
    "\n",
    "# Convert string IDs to integers for joining\n",
    "users_converted = users.with_columns([\n",
    "    pl.col(\"user_id\").cast(pl.Int64)\n",
    "])\n",
    "\n",
    "# Perform the join with converted types\n",
    "joined = users_converted.join(\n",
    "    orders,\n",
    "    on=\"user_id\",\n",
    "    how=\"left\"\n",
    ")\n",
    "\n",
    "print(\"\\nJoined Result:\")\n",
    "print(joined)\n",
    "\n",
    "print(\"\\nJoined DataFrame Schema:\")\n",
    "print(joined.schema) "
   ]
  }
 ],
 "metadata": {
  "kernelspec": {
   "display_name": ".venv",
   "language": "python",
   "name": "python3"
  },
  "language_info": {
   "codemirror_mode": {
    "name": "ipython",
    "version": 3
   },
   "file_extension": ".py",
   "mimetype": "text/x-python",
   "name": "python",
   "nbconvert_exporter": "python",
   "pygments_lexer": "ipython3",
   "version": "3.12.6"
  }
 },
 "nbformat": 4,
 "nbformat_minor": 2
}
