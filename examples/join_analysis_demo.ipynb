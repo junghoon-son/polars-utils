{
 "cells": [
  {
   "cell_type": "code",
   "execution_count": 2,
   "metadata": {},
   "outputs": [
    {
     "data": {
      "application/vnd.jupyter.widget-view+json": {
       "model_id": "95f92948ae624a6da8ce5995e678c01a",
       "version_major": 2,
       "version_minor": 0
      },
      "text/plain": [
       "Output()"
      ]
     },
     "metadata": {},
     "output_type": "display_data"
    },
    {
     "name": "stdout",
     "output_type": "stream",
     "text": [
      "Analyzing join possibilities between df1 and df2:\n"
     ]
    },
    {
     "data": {
      "text/html": [
       "<pre style=\"white-space:pre;overflow-x:auto;line-height:normal;font-family:Menlo,'DejaVu Sans Mono',consolas,'Courier New',monospace\"></pre>\n"
      ],
      "text/plain": []
     },
     "metadata": {},
     "output_type": "display_data"
    },
    {
     "data": {
      "text/html": [
       "<pre style=\"white-space:pre;overflow-x:auto;line-height:normal;font-family:Menlo,'DejaVu Sans Mono',consolas,'Courier New',monospace\"><span style=\"font-style: italic\">                                              Join Analysis Results                                               </span>\n",
       "╔═════════════╦══════════════╦════════════════╦══════════════╦═══════════════╦═════════╦═════════════════════════╗\n",
       "║<span style=\"font-weight: bold\"> Left Column </span>║<span style=\"font-weight: bold\"> Right Column </span>║<span style=\"font-weight: bold\"> Types          </span>║<span style=\"font-weight: bold\"> Left Match % </span>║<span style=\"font-weight: bold\"> Right Match % </span>║<span style=\"font-weight: bold\"> Matched </span>║<span style=\"font-weight: bold\"> Coercion Applied        </span>║\n",
       "╠═════════════╬══════════════╬════════════════╬══════════════╬═══════════════╬═════════╬═════════════════════════╣\n",
       "║ mixed       ║ mixed        ║ String ↔ Int64 ║ 100.0%       ║ 100.0%        ║ 5       ║ Coerced right to String ║\n",
       "║ id          ║ mixed        ║ Int64          ║ 100.0%       ║ 80.0%         ║ 4       ║ -                       ║\n",
       "║ id          ║ id           ║ Int64          ║ 75.0%        ║ 100.0%        ║ 3       ║ -                       ║\n",
       "║ mixed       ║ id           ║ String ↔ Int64 ║ 60.0%        ║ 100.0%        ║ 3       ║ Coerced right to String ║\n",
       "║ name        ║ name         ║ String         ║ 60.0%        ║ 75.0%         ║ 3       ║ -                       ║\n",
       "║ id          ║ name         ║ Int64 ↔ String ║ -            ║ -             ║ -       ║ Coerced right to Int64  ║\n",
       "║ id          ║ score        ║ Int64          ║ -            ║ -             ║ -       ║ -                       ║\n",
       "║ name        ║ id           ║ String ↔ Int64 ║ -            ║ -             ║ -       ║ Coerced right to String ║\n",
       "║ name        ║ score        ║ String ↔ Int64 ║ -            ║ -             ║ -       ║ Coerced right to String ║\n",
       "║ name        ║ mixed        ║ String ↔ Int64 ║ -            ║ -             ║ -       ║ Coerced right to String ║\n",
       "║ value       ║ id           ║ Int64          ║ -            ║ -             ║ -       ║ -                       ║\n",
       "║ value       ║ name         ║ Int64 ↔ String ║ -            ║ -             ║ -       ║ Coerced right to Int64  ║\n",
       "║ value       ║ score        ║ Int64          ║ -            ║ -             ║ -       ║ -                       ║\n",
       "║ value       ║ mixed        ║ Int64          ║ -            ║ -             ║ -       ║ -                       ║\n",
       "║ mixed       ║ name         ║ String         ║ -            ║ -             ║ -       ║ -                       ║\n",
       "║ mixed       ║ score        ║ String ↔ Int64 ║ -            ║ -             ║ -       ║ Coerced right to String ║\n",
       "╚═════════════╩══════════════╩════════════════╩══════════════╩═══════════════╩═════════╩═════════════════════════╝\n",
       "</pre>\n"
      ],
      "text/plain": [
       "\u001b[3m                                              Join Analysis Results                                               \u001b[0m\n",
       "╔═════════════╦══════════════╦════════════════╦══════════════╦═══════════════╦═════════╦═════════════════════════╗\n",
       "║\u001b[1m \u001b[0m\u001b[1mLeft Column\u001b[0m\u001b[1m \u001b[0m║\u001b[1m \u001b[0m\u001b[1mRight Column\u001b[0m\u001b[1m \u001b[0m║\u001b[1m \u001b[0m\u001b[1mTypes         \u001b[0m\u001b[1m \u001b[0m║\u001b[1m \u001b[0m\u001b[1mLeft Match %\u001b[0m\u001b[1m \u001b[0m║\u001b[1m \u001b[0m\u001b[1mRight Match %\u001b[0m\u001b[1m \u001b[0m║\u001b[1m \u001b[0m\u001b[1mMatched\u001b[0m\u001b[1m \u001b[0m║\u001b[1m \u001b[0m\u001b[1mCoercion Applied       \u001b[0m\u001b[1m \u001b[0m║\n",
       "╠═════════════╬══════════════╬════════════════╬══════════════╬═══════════════╬═════════╬═════════════════════════╣\n",
       "║ mixed       ║ mixed        ║ String ↔ Int64 ║ 100.0%       ║ 100.0%        ║ 5       ║ Coerced right to String ║\n",
       "║ id          ║ mixed        ║ Int64          ║ 100.0%       ║ 80.0%         ║ 4       ║ -                       ║\n",
       "║ id          ║ id           ║ Int64          ║ 75.0%        ║ 100.0%        ║ 3       ║ -                       ║\n",
       "║ mixed       ║ id           ║ String ↔ Int64 ║ 60.0%        ║ 100.0%        ║ 3       ║ Coerced right to String ║\n",
       "║ name        ║ name         ║ String         ║ 60.0%        ║ 75.0%         ║ 3       ║ -                       ║\n",
       "║ id          ║ name         ║ Int64 ↔ String ║ -            ║ -             ║ -       ║ Coerced right to Int64  ║\n",
       "║ id          ║ score        ║ Int64          ║ -            ║ -             ║ -       ║ -                       ║\n",
       "║ name        ║ id           ║ String ↔ Int64 ║ -            ║ -             ║ -       ║ Coerced right to String ║\n",
       "║ name        ║ score        ║ String ↔ Int64 ║ -            ║ -             ║ -       ║ Coerced right to String ║\n",
       "║ name        ║ mixed        ║ String ↔ Int64 ║ -            ║ -             ║ -       ║ Coerced right to String ║\n",
       "║ value       ║ id           ║ Int64          ║ -            ║ -             ║ -       ║ -                       ║\n",
       "║ value       ║ name         ║ Int64 ↔ String ║ -            ║ -             ║ -       ║ Coerced right to Int64  ║\n",
       "║ value       ║ score        ║ Int64          ║ -            ║ -             ║ -       ║ -                       ║\n",
       "║ value       ║ mixed        ║ Int64          ║ -            ║ -             ║ -       ║ -                       ║\n",
       "║ mixed       ║ name         ║ String         ║ -            ║ -             ║ -       ║ -                       ║\n",
       "║ mixed       ║ score        ║ String ↔ Int64 ║ -            ║ -             ║ -       ║ Coerced right to String ║\n",
       "╚═════════════╩══════════════╩════════════════╩══════════════╩═══════════════╩═════════╩═════════════════════════╝\n"
      ]
     },
     "metadata": {},
     "output_type": "display_data"
    },
    {
     "name": "stdout",
     "output_type": "stream",
     "text": [
      "\n",
      "Sample of joined data:\n",
      "shape: (4, 7)\n",
      "┌─────┬──────┬───────┬───────┬────────────┬───────┬─────────────┐\n",
      "│ id  ┆ name ┆ value ┆ mixed ┆ name_right ┆ score ┆ mixed_right │\n",
      "│ --- ┆ ---  ┆ ---   ┆ ---   ┆ ---        ┆ ---   ┆ ---         │\n",
      "│ i64 ┆ str  ┆ i64   ┆ str   ┆ str        ┆ i64   ┆ i64         │\n",
      "╞═════╪══════╪═══════╪═══════╪════════════╪═══════╪═════════════╡\n",
      "│ 1   ┆ A    ┆ 10    ┆ 1     ┆ A          ┆ 100   ┆ 1           │\n",
      "│ 2   ┆ B    ┆ 20    ┆ 2     ┆ B          ┆ 200   ┆ 2           │\n",
      "│ 3   ┆ C    ┆ 30    ┆ 3     ┆ C          ┆ 300   ┆ 3           │\n",
      "│ 3   ┆ C    ┆ 30    ┆ 3     ┆ C          ┆ 400   ┆ 4           │\n",
      "└─────┴──────┴───────┴───────┴────────────┴───────┴─────────────┘\n"
     ]
    }
   ],
   "source": [
    "import polars as pl\n",
    "from polars_utils import register_extensions\n",
    "\n",
    "# Register the extensions\n",
    "register_extensions()\n",
    "\n",
    "# Create sample DataFrames\n",
    "df1 = pl.DataFrame({\n",
    "    \"id\": [1, 2, 3, 4, None],\n",
    "    \"name\": [\"A\", \"B\", \"C\", \"D\", \"E\"],\n",
    "    \"value\": [10, 20, 30, 40, 50],\n",
    "    \"mixed\": [\"1\", \"2\", \"3\", \"4\", \"5\"]\n",
    "})\n",
    "\n",
    "df2 = pl.DataFrame({\n",
    "    \"id\": [1, 2, 3, 3, None],\n",
    "    \"name\": [\"A\", \"B\", \"C\", \"C\", \"F\"],\n",
    "    \"score\": [100, 200, 300, 400, 500],\n",
    "    \"mixed\": [1, 2, 3, 4, 5]\n",
    "})\n",
    "\n",
    "# Analyze potential join relationships\n",
    "print(\"Analyzing join possibilities between df1 and df2:\")\n",
    "df1.polars_utils.join_analysis(df2)\n",
    "\n",
    "# Perform a join using the identified key\n",
    "joined_df = df1.join(\n",
    "    df2,\n",
    "    left_on=\"id\",\n",
    "    right_on=\"id\",\n",
    "    how=\"inner\"\n",
    ")\n",
    "\n",
    "print(\"\\nSample of joined data:\")\n",
    "print(joined_df)"
   ]
  },
  {
   "cell_type": "code",
   "execution_count": null,
   "metadata": {},
   "outputs": [],
   "source": []
  }
 ],
 "metadata": {
  "kernelspec": {
   "display_name": ".venv",
   "language": "python",
   "name": "python3"
  },
  "language_info": {
   "codemirror_mode": {
    "name": "ipython",
    "version": 3
   },
   "file_extension": ".py",
   "mimetype": "text/x-python",
   "name": "python",
   "nbconvert_exporter": "python",
   "pygments_lexer": "ipython3",
   "version": "3.12.6"
  }
 },
 "nbformat": 4,
 "nbformat_minor": 2
}
